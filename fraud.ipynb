{
 "cells": [
  {
   "cell_type": "code",
   "execution_count": 1,
   "metadata": {},
   "outputs": [],
   "source": [
    "import pandas as pd\n",
    "import numpy as np\n",
    "import matplotlib.pyplot as plt\n",
    "import reverse_geocoder as rg\n",
    "from sklearn.cluster import KMeans\n",
    "from sklearn.preprocessing import normalize\n",
    "from sklearn.linear_model import LogisticRegression\n",
    "from sklearn.ensemble import RandomForestClassifier\n",
    "from sklearn.model_selection import train_test_split, GridSearchCV, StratifiedKFold\n",
    "from sklearn.model_selection import RandomizedSearchCV\n",
    "from sklearn.metrics import precision_recall_curve, auc, f1_score\n",
    "from sklearn.metrics import precision_score, recall_score, confusion_matrix"
   ]
  },
  {
   "cell_type": "code",
   "execution_count": 2,
   "metadata": {},
   "outputs": [],
   "source": [
    "path = r\"C:/Users/danie/Documents/Projects/fraud_detection/\"\n",
    "ftrain = pd.read_csv(path+'fraud_train.csv')\n",
    "ftest = pd.read_csv(path+'fraud_test.csv')\n",
    "# convert the index unnamed column into a unique identifier\n",
    "ftrain.rename(columns = {'Unnamed: 0': 'id'}, inplace=True)\n",
    "ftest.rename(columns = {'Unnamed: 0': 'id'}, inplace=True)\n",
    "# convert the test id to make it consistent, starting from max(id)+1 in train\n",
    "ftest['id']+=np.max(ftrain['id'])+1"
   ]
  },
  {
   "cell_type": "code",
   "execution_count": 3,
   "metadata": {},
   "outputs": [
    {
     "data": {
      "text/plain": [
       "Index(['id', 'trans_date_trans_time', 'cc_num', 'merchant', 'category', 'amt',\n",
       "       'first', 'last', 'gender', 'street', 'city', 'state', 'zip', 'lat',\n",
       "       'long', 'city_pop', 'job', 'dob', 'trans_num', 'unix_time', 'merch_lat',\n",
       "       'merch_long', 'is_fraud'],\n",
       "      dtype='object')"
      ]
     },
     "execution_count": 3,
     "metadata": {},
     "output_type": "execute_result"
    }
   ],
   "source": [
    "ftrain.columns"
   ]
  },
  {
   "cell_type": "code",
   "execution_count": 4,
   "metadata": {},
   "outputs": [
    {
     "name": "stdout",
     "output_type": "stream",
     "text": [
      "(1296675, 23) (555719, 23)\n"
     ]
    }
   ],
   "source": [
    "print(ftrain.shape, ftest.shape)"
   ]
  },
  {
   "cell_type": "code",
   "execution_count": 5,
   "metadata": {},
   "outputs": [
    {
     "data": {
      "text/plain": [
       "1852394"
      ]
     },
     "execution_count": 5,
     "metadata": {},
     "output_type": "execute_result"
    }
   ],
   "source": [
    "ftrain.shape[0]+ftest.shape[0]"
   ]
  },
  {
   "cell_type": "markdown",
   "metadata": {},
   "source": [
    "### 0. Real-world problem simulation\n",
    "Combine the train and test dataset. Total about 185k transaction activities (129k in training dataset;; 55k in test dataset). <br>\n",
    "First, combine all activities. How to simulate real-world condition: <br>\n",
    "1. Suppose we only know the first 1.5 years' activity data (01/01/2019 - 06/30/2020)\n",
    "2. Use the last half year as test dataset (around 29%-30% of the dataset)\n",
    "3. In supervised models, use k-fold cross validation\n",
    "Unsupervised (df): user profiling, merchant profiling <br>\n",
    "Supervised (df): transaction activity"
   ]
  },
  {
   "cell_type": "code",
   "execution_count": 6,
   "metadata": {},
   "outputs": [],
   "source": [
    "ftrain['trans_date_trans_time'] = pd.to_datetime(ftrain['trans_date_trans_time'])\n",
    "ftest['trans_date_trans_time'] = pd.to_datetime(ftest['trans_date_trans_time'])\n",
    "df = pd.concat([ftrain, ftest])"
   ]
  },
  {
   "cell_type": "code",
   "execution_count": 7,
   "metadata": {},
   "outputs": [
    {
     "name": "stdout",
     "output_type": "stream",
     "text": [
      "1296675 555719 1852394\n",
      "0.6999995681264353\n"
     ]
    }
   ],
   "source": [
    "print(ftrain.shape[0], ftest.shape[0], df.shape[0])\n",
    "print(ftrain.shape[0] / df.shape[0])"
   ]
  },
  {
   "cell_type": "code",
   "execution_count": 8,
   "metadata": {},
   "outputs": [],
   "source": [
    "df1 = df[df['trans_date_trans_time']<='06/30/2020'].copy()\n",
    "df2 = df[df['trans_date_trans_time']>='07/01/2020'].copy()"
   ]
  },
  {
   "cell_type": "code",
   "execution_count": 9,
   "metadata": {},
   "outputs": [
    {
     "name": "stdout",
     "output_type": "stream",
     "text": [
      "1322861 525661\n",
      "0.7141358695828209\n"
     ]
    }
   ],
   "source": [
    "print(df1.shape[0], df2.shape[0])\n",
    "print(df1.shape[0] / df.shape[0])"
   ]
  },
  {
   "cell_type": "code",
   "execution_count": 10,
   "metadata": {},
   "outputs": [
    {
     "name": "stdout",
     "output_type": "stream",
     "text": [
      "7601 1315260\n",
      "0.005745879574649188\n"
     ]
    }
   ],
   "source": [
    "print(df1[df1['is_fraud']==1].shape[0], df1[df1['is_fraud']==0].shape[0])\n",
    "print(df1[df1['is_fraud']==1].shape[0]/df1.shape[0])"
   ]
  },
  {
   "cell_type": "code",
   "execution_count": null,
   "metadata": {},
   "outputs": [],
   "source": []
  },
  {
   "cell_type": "markdown",
   "metadata": {},
   "source": [
    "### 1. transaction activities"
   ]
  },
  {
   "cell_type": "markdown",
   "metadata": {},
   "source": [
    "### 1.1 Transaction Pattern\n",
    "#### 1.1.1 Transaction amount pattern <br>\n",
    "Divide the transaction amount into four segments for each credit card: extreme, high, medium and low.\n",
    "\n",
    "-------\n",
    "For transactions of each credit card:\n",
    "1. Apply 68-95-99 rule, flag transactions having amount > mean + 3 SD as \"extreme\"\n",
    "2. Use 1-d clustering the rest transactions into group: high, medium and low\n",
    "------\n"
   ]
  },
  {
   "cell_type": "code",
   "execution_count": 11,
   "metadata": {},
   "outputs": [],
   "source": [
    "def trans_amt_pattern(df, cc_col): \n",
    "    # obtain the list of unique cards, identified by unique credit card number\n",
    "    cards, df_labeled = list(np.unique(df[cc_col])), pd.DataFrame()\n",
    "    for cc in cards: \n",
    "        # obtain transactions of one card number\n",
    "        df_temp = df[df[cc_col]==cc].copy()\n",
    "        # obtain the boundary for outlier (mean+3 SD)\n",
    "        boundary = np.mean(df[df[cc_col]==cc]['amt']) + 3 * np.std(df[df[cc_col]==cc]['amt'])\n",
    "        # split the data to temporary tables: extreme value and non-extreme value\n",
    "        temp_ext, temp_nonext = df_temp[df_temp['amt']>boundary], df_temp[df_temp['amt']<=boundary]\n",
    "        # run k-means clustering to divide non-extreme value into three groups\n",
    "        kmeans = KMeans(n_clusters=3, n_init=10, max_iter=300, random_state=40)\n",
    "        kmeans.fit(np.array(temp_nonext['amt']).reshape(-1, 1))\n",
    "        # assgin labels to the temporary tables\n",
    "        temp_ext, temp_nonext = temp_ext.copy(), temp_nonext.copy()\n",
    "        temp_ext['label'] = [3]*temp_ext.shape[0]\n",
    "        temp_nonext['label'] = kmeans.labels_\n",
    "        # kmeans labels no associated with numerical values, need to re-assign numerical labels\n",
    "        # sort the label (0-2) in ascending order of average\n",
    "        avg_list = [np.mean(temp_nonext[temp_nonext['label']==i]['amt']) for i in range(max(kmeans.labels_)+1)]\n",
    "        sorted_label = np.argsort(avg_list)\n",
    "        # convert the labels to \"low\", \"medium\", and \"high\" based on mean, then assign 0, 1, 2 to them respectively\n",
    "        temp_dict1 = {sorted_label[0]: 'low', sorted_label[1]: 'medium', sorted_label[2]: 'high'}\n",
    "        temp_dict2 = {'low': 0, 'medium': 1, 'high': 2}\n",
    "        for key, value in temp_dict1.items():\n",
    "            temp_nonext.loc[temp_nonext.label == key, 'label'] = value\n",
    "        for key, value in temp_dict2.items(): \n",
    "            temp_nonext.loc[temp_nonext.label == key, 'label'] = value\n",
    "        # all results for this card number\n",
    "        temp_all = pd.concat([temp_ext, temp_nonext])\n",
    "        # iteratively get all labeled result to a new dataframe\n",
    "        df_labeled = pd.concat([df_labeled, temp_all])\n",
    "    return df_labeled"
   ]
  },
  {
   "cell_type": "code",
   "execution_count": 12,
   "metadata": {},
   "outputs": [],
   "source": [
    "df1_labeled = trans_amt_pattern(df1, 'cc_num')"
   ]
  },
  {
   "cell_type": "code",
   "execution_count": 13,
   "metadata": {},
   "outputs": [],
   "source": [
    "df2_labeled = trans_amt_pattern(df2, 'cc_num')"
   ]
  },
  {
   "cell_type": "code",
   "execution_count": 14,
   "metadata": {},
   "outputs": [],
   "source": [
    "# temporarily save the progress\n",
    "df1_labeled.to_csv(path+r'f1_ver1.0.csv')"
   ]
  },
  {
   "cell_type": "code",
   "execution_count": 15,
   "metadata": {},
   "outputs": [],
   "source": [
    "df2_labeled.to_csv(path+r'f2_ver1.0.csv')"
   ]
  },
  {
   "cell_type": "code",
   "execution_count": 16,
   "metadata": {},
   "outputs": [
    {
     "data": {
      "text/plain": [
       "<matplotlib.collections.PathCollection at 0x24a308b4a48>"
      ]
     },
     "execution_count": 16,
     "metadata": {},
     "output_type": "execute_result"
    },
    {
     "data": {
      "image/png": "[encoded data removed]",
      "text/plain": [
       "<Figure size 432x288 with 1 Axes>"
      ]
     },
     "metadata": {
      "needs_background": "light"
     },
     "output_type": "display_data"
    }
   ],
   "source": [
    "plt.scatter(df1_labeled['amt'], df1_labeled['label'])"
   ]
  },
  {
   "cell_type": "code",
   "execution_count": null,
   "metadata": {},
   "outputs": [],
   "source": []
  },
  {
   "cell_type": "code",
   "execution_count": null,
   "metadata": {},
   "outputs": [],
   "source": []
  },
  {
   "cell_type": "markdown",
   "metadata": {},
   "source": [
    "#### 1.1.2 Transaction location pattern <br>\n",
    "Use the location information of the customer and merchant to categorize the transaction into three types: 0 - local (same city), 1 - national (same country but not same city), 2 - international (different country)\n"
   ]
  },
  {
   "cell_type": "code",
   "execution_count": 17,
   "metadata": {},
   "outputs": [],
   "source": [
    "path = r\"C:/Users/danie/Documents/Projects/fraud_detection/\"\n",
    "ftrain = pd.read_csv(path+'fraud_train.csv')\n",
    "ftest = pd.read_csv(path+'fraud_test.csv')\n",
    "ftrain.rename(columns = {'Unnamed: 0': 'id'}, inplace=True)\n",
    "ftest.rename(columns = {'Unnamed: 0': 'id'}, inplace=True)\n",
    "ftest['id']+=np.max(ftrain['id'])+1\n",
    "ftrain['trans_date_trans_time'] = pd.to_datetime(ftrain['trans_date_trans_time'])\n",
    "ftest['trans_date_trans_time'] = pd.to_datetime(ftest['trans_date_trans_time'])\n",
    "df = pd.concat([ftrain, ftest])\n",
    "df1 = df[df['trans_date_trans_time']<='06/30/2020'].copy()\n",
    "df2 = df[df['trans_date_trans_time']>='07/01/2020'].copy()"
   ]
  },
  {
   "cell_type": "code",
   "execution_count": 19,
   "metadata": {},
   "outputs": [],
   "source": [
    "df1_labeled = pd.read_csv(path+r'f1_ver1.0.csv')\n",
    "df2_labeled = pd.read_csv(path+r'f2_ver1.0.csv')"
   ]
  },
  {
   "cell_type": "code",
   "execution_count": 20,
   "metadata": {},
   "outputs": [],
   "source": [
    "df1.reset_index(inplace=True, drop=True)\n",
    "df1_labeled.reset_index(inplace=True, drop=True)\n",
    "df2.reset_index(inplace=True, drop=True)\n",
    "df2_labeled.reset_index(inplace=True, drop=True)"
   ]
  },
  {
   "cell_type": "code",
   "execution_count": 21,
   "metadata": {},
   "outputs": [],
   "source": [
    "def getCityCountry(lat, long): \n",
    "    geolocator = Nominatim(user_agent=\"geoapiExercises\")\n",
    "    location = geolocator.reverse(str(lat)+\",\"+str(long))\n",
    "    address = location.raw['address']\n",
    "    return address.get('county', ''), address.get('city', ''), address.get('country', '')"
   ]
  },
  {
   "cell_type": "code",
   "execution_count": 22,
   "metadata": {},
   "outputs": [],
   "source": [
    "def getLocInfo(df, clat, clong, mlat, mlong): \n",
    "    # obtain coordinates in tuple from latitude and longitude\n",
    "    c_coords = df[[clat, clong]].apply(tuple, axis=1).tolist()\n",
    "    m_coords = df[[mlat, mlong]].apply(tuple, axis=1).tolist()\n",
    "    # obtain district and country information\n",
    "    c_res = rg.search(c_coords)\n",
    "    df['c_district'] = [item['name'] for item in c_res]\n",
    "    df['c_country'] = [item['cc'] for item in c_res]\n",
    "    m_res = rg.search(m_coords)\n",
    "    df['m_district'] = [item['name'] for item in m_res]\n",
    "    df['m_country'] = [item['cc'] for item in m_res]\n",
    "    # generqte conditions\n",
    "    conditions = [\n",
    "        (df['c_district']==df['m_district']),\n",
    "        (df['c_district']!=df['m_district']) & (df['c_country']==df['m_country']),\n",
    "        (df['c_country']!=df['m_country']),\n",
    "        ]\n",
    "    # 0 - same district; 1 - same country; 2 - international\n",
    "    values = [0, 1, 2]\n",
    "    df['addr_label'] = np.select(conditions, values)\n",
    "    return df"
   ]
  },
  {
   "cell_type": "code",
   "execution_count": 23,
   "metadata": {},
   "outputs": [
    {
     "name": "stdout",
     "output_type": "stream",
     "text": [
      "Loading formatted geocoded file...\n"
     ]
    }
   ],
   "source": [
    "df1_lv2 = getLocInfo(df1_labeled, 'lat', 'long', 'merch_lat', 'merch_long')"
   ]
  },
  {
   "cell_type": "code",
   "execution_count": 24,
   "metadata": {},
   "outputs": [],
   "source": [
    "df2_lv2 = getLocInfo(df2_labeled, 'lat', 'long', 'merch_lat', 'merch_long')"
   ]
  },
  {
   "cell_type": "code",
   "execution_count": null,
   "metadata": {},
   "outputs": [],
   "source": []
  },
  {
   "cell_type": "markdown",
   "metadata": {},
   "source": [
    "#### 1.1.3 Transaction date & time information\n",
    "Generate two columns from the transaction datetime. \n",
    "\n",
    "------\n",
    "1. Day of the week: Sunday, Monday,.... <br>\n",
    "   Class 0: Monday <br>\n",
    "   ... <br>\n",
    "   Class 6: Sunday\n",
    "2. Time of the day: <br>\n",
    "   Class 0: Morning, 6 am - 12 pm <br>\n",
    "   Class 1: Afternoon, 12 pm - 6 pm <br>\n",
    "   Class 2: Evening, 6 pm - 12 am <br>\n",
    "   Class 3: Midnight, 12 am - 6 am \n",
    "-------\n"
   ]
  },
  {
   "cell_type": "code",
   "execution_count": 25,
   "metadata": {},
   "outputs": [],
   "source": [
    "def getDayTime(df, dtcol): \n",
    "    df[dtcol] = pd.to_datetime(df[dtcol])\n",
    "    df['weekday_label'] = df[dtcol].dt.weekday\n",
    "    time_bins = [0, 6, 12, 18, 24]\n",
    "    labels = [3, 0, 1, 2]\n",
    "    df['time_label'] = pd.cut(df[dtcol].dt.hour, time_bins, labels=labels, right=False)\n",
    "    return df"
   ]
  },
  {
   "cell_type": "code",
   "execution_count": 26,
   "metadata": {},
   "outputs": [],
   "source": [
    "df1_lv3 = getDayTime(df1_lv2, 'trans_date_trans_time')"
   ]
  },
  {
   "cell_type": "code",
   "execution_count": 27,
   "metadata": {},
   "outputs": [],
   "source": [
    "df2_lv3 = getDayTime(df2_lv2, 'trans_date_trans_time')"
   ]
  },
  {
   "cell_type": "code",
   "execution_count": 96,
   "metadata": {},
   "outputs": [],
   "source": [
    "df1_lv3.to_csv('f1_ver2.0.csv')\n",
    "df2_lv3.to_csv('f2_ver2.0.csv')"
   ]
  },
  {
   "cell_type": "code",
   "execution_count": 98,
   "metadata": {},
   "outputs": [],
   "source": [
    "df_lv3 = pd.concat([df1_lv3, df2_lv3], ignore_index=True)"
   ]
  },
  {
   "cell_type": "code",
   "execution_count": 100,
   "metadata": {},
   "outputs": [
    {
     "name": "stdout",
     "output_type": "stream",
     "text": [
      "(1322861, 32) (525661, 32) (1848522, 32)\n"
     ]
    }
   ],
   "source": [
    "print(df1_lv3.shape, df2_lv3.shape, df_lv3.shape)"
   ]
  },
  {
   "cell_type": "code",
   "execution_count": 101,
   "metadata": {},
   "outputs": [],
   "source": [
    "df_lv3.to_csv('f_ver2.0.csv')"
   ]
  },
  {
   "cell_type": "code",
   "execution_count": 102,
   "metadata": {},
   "outputs": [
    {
     "data": {
      "text/plain": [
       "Index(['Unnamed: 0', 'id', 'trans_date_trans_time', 'cc_num', 'merchant',\n",
       "       'category', 'amt', 'first', 'last', 'gender', 'street', 'city', 'state',\n",
       "       'zip', 'lat', 'long', 'city_pop', 'job', 'dob', 'trans_num',\n",
       "       'unix_time', 'merch_lat', 'merch_long', 'is_fraud', 'label',\n",
       "       'c_district', 'c_country', 'm_district', 'm_country', 'addr_label',\n",
       "       'weekday_label', 'time_label'],\n",
       "      dtype='object')"
      ]
     },
     "execution_count": 102,
     "metadata": {},
     "output_type": "execute_result"
    }
   ],
   "source": [
    "df_lv3.columns"
   ]
  },
  {
   "cell_type": "code",
   "execution_count": 106,
   "metadata": {},
   "outputs": [
    {
     "data": {
      "text/plain": [
       "28948.9"
      ]
     },
     "execution_count": 106,
     "metadata": {},
     "output_type": "execute_result"
    }
   ],
   "source": [
    "np.max(df_lv3['amt'])"
   ]
  },
  {
   "cell_type": "markdown",
   "metadata": {},
   "source": [
    "#### 1.1.4 Get Dummy Variables for categories\n",
    "In terms of categories, label encoding is not sufficient. It is necessary to create dummy variables to provide better information to the model. "
   ]
  },
  {
   "cell_type": "code",
   "execution_count": 28,
   "metadata": {},
   "outputs": [],
   "source": [
    "# create dummy variables\n",
    "df1_dummy = pd.get_dummies(df1_lv3['category'].copy())\n",
    "# dummy variables should contain one less than total number of classes\n",
    "df1_lv4 = pd.concat([df1_lv3, df1_dummy.iloc[:,1:]], axis=1)"
   ]
  },
  {
   "cell_type": "code",
   "execution_count": 29,
   "metadata": {},
   "outputs": [
    {
     "name": "stdout",
     "output_type": "stream",
     "text": [
      "(1322861, 14) (1322861, 32) (1322861, 45)\n"
     ]
    }
   ],
   "source": [
    "print(df1_dummy.shape, df1_lv3.shape, df1_lv4.shape)"
   ]
  },
  {
   "cell_type": "code",
   "execution_count": 30,
   "metadata": {},
   "outputs": [],
   "source": [
    "df2_dummy = pd.get_dummies(df2_lv3['category'].copy())\n",
    "df2_lv4 = pd.concat([df1_lv3, df1_dummy.iloc[:,1:]], axis=1)"
   ]
  },
  {
   "cell_type": "code",
   "execution_count": null,
   "metadata": {},
   "outputs": [],
   "source": []
  },
  {
   "cell_type": "markdown",
   "metadata": {},
   "source": [
    "### 2. Modeling\n",
    "#### 2.1 Random Forest"
   ]
  },
  {
   "cell_type": "code",
   "execution_count": 31,
   "metadata": {},
   "outputs": [
    {
     "name": "stdout",
     "output_type": "stream",
     "text": [
      "(3190, 45)\n"
     ]
    }
   ],
   "source": [
    "c1 = df1_lv4[df1_lv4['cc_num']==df1_lv4['cc_num'][30000]]\n",
    "print(c1.shape)"
   ]
  },
  {
   "cell_type": "code",
   "execution_count": 32,
   "metadata": {},
   "outputs": [],
   "source": [
    "c1 = df1_lv4[df1_lv4['cc_num']==df1_lv4['cc_num'][0]]\n",
    "c1.reset_index(inplace=True, drop=True)\n",
    "dummy_cols = list(df1_dummy.columns)[1:]\n",
    "cols = ['label', 'addr_label', 'weekday_label', 'time_label']+dummy_cols\n",
    "X = df1_lv4[cols]\n",
    "y = df1_lv4['is_fraud']"
   ]
  },
  {
   "cell_type": "code",
   "execution_count": 33,
   "metadata": {},
   "outputs": [],
   "source": [
    "minrtomaj = y[y==1].shape[0] / y[y==0].shape[0]"
   ]
  },
  {
   "cell_type": "code",
   "execution_count": 34,
   "metadata": {},
   "outputs": [],
   "source": [
    "X = X.copy()\n",
    "X['time_label']=pd.to_numeric(X['time_label'])"
   ]
  },
  {
   "cell_type": "code",
   "execution_count": 76,
   "metadata": {},
   "outputs": [],
   "source": [
    "from sklearn.metrics import confusion_matrix"
   ]
  },
  {
   "cell_type": "code",
   "execution_count": 94,
   "metadata": {},
   "outputs": [
    {
     "name": "stdout",
     "output_type": "stream",
     "text": [
      "0.5 f1 0.07661616919154043 precision 0.04013829954424014 recall 0.8401315789473685 fpr 0.9598617004557599\n",
      "0.6 f1 0.12314401412106737 precision 0.06684702964716492 recall 0.7802631578947369 fpr 0.9331529703528351\n",
      "0.7 f1 0.15463917525773196 precision 0.08620689655172414 recall 0.75 fpr 0.9137931034482759\n",
      "0.8 f1 0.17818361303060218 precision 0.10182399398270027 recall 0.7125 fpr 0.8981760060172997\n",
      "0.9 f1 0.25520908176462137 precision 0.16326530612244897 recall 0.5842105263157895 fpr 0.8367346938775511\n"
     ]
    }
   ],
   "source": [
    "skf = StratifiedKFold(n_splits=5, shuffle=True, random_state=1)\n",
    "#score = []\n",
    "weights = {0:1, 1: 1/minrtomaj}\n",
    "rf = RandomForestClassifier(n_estimators=10, class_weight = weights, random_state=10)\n",
    "thres_list = [0.5, 0.6, 0.7, 0.8, 0.9]\n",
    "\n",
    "\n",
    "\n",
    "for thres in thres_list:\n",
    "    for t1, t2 in skf.split(X, y): \n",
    "        f1, prec, rec, fpr = [], [], [], []\n",
    "        x_train, x_test = X.iloc[t1,:], X.iloc[t2,:]\n",
    "        y_train, y_test =  y[t1], y[t2]\n",
    "        rf.fit(x_train, y_train)\n",
    "        rf_prob = rf.predict_proba(x_test)\n",
    "        yhat = (rf_prob[:,1] >= thres).astype('int')\n",
    "        rf_probs = rf_prob[:, 1]\n",
    "        \n",
    "        # Scores\n",
    "        rf_precision, rf_recall, _ = precision_recall_curve(y_test, rf_probs)\n",
    "        rf_f1 = f1_score(y_test, yhat)\n",
    "        #rf_auc = auc(rf_recall, rf_precision)\n",
    "        rf_prec, rf_rec = precision_score(y_test, yhat), recall_score(y_test, yhat)\n",
    "        cm = confusion_matrix(y_test, yhat)\n",
    "        tp, fp, fn, tn = cm[0][0], cm[0][1], cm[1][0], cm[1][1]\n",
    "        #print('Random Forest: f1=%.3f auc=%.3f precision=%.3f recall=%.3f' % (rf_f1, rf_auc, rf_prec, rf_rec))\n",
    "        #score.append(rf_auc)\n",
    "        f1.append(rf_f1)\n",
    "        #auc.append(rf_auc)\n",
    "        prec.append(rf_prec)\n",
    "        rec.append(rf_rec)\n",
    "        fpr.append(fp/(fp+tn))\n",
    "    print(thres,'f1',np.mean(f1),'precision',np.mean(prec),'recall',np.mean(rec),'fpr',np.mean(fpr))"
   ]
  },
  {
   "cell_type": "code",
   "execution_count": null,
   "metadata": {},
   "outputs": [],
   "source": []
  },
  {
   "cell_type": "code",
   "execution_count": null,
   "metadata": {},
   "outputs": [],
   "source": [
    "X.columns"
   ]
  },
  {
   "cell_type": "code",
   "execution_count": null,
   "metadata": {},
   "outputs": [],
   "source": []
  },
  {
   "cell_type": "code",
   "execution_count": null,
   "metadata": {},
   "outputs": [],
   "source": []
  },
  {
   "cell_type": "code",
   "execution_count": null,
   "metadata": {},
   "outputs": [],
   "source": [
    "X_train, X_test, y_train, y_test = train_test_split(X, y, test_size=0.33, random_state=40)\n",
    "#model\n",
    "MOD = RandomForestClassifier() \n",
    "#Implemente RandomSearchCV\n",
    "m_params = {\"n_estimators\" : [2, 10, 40, 50, 100],\n",
    "            \"max_depth\": [5, 10, 15, None], \n",
    "            \"min_samples_split\": [2, 3, 4, 5],  \n",
    "            \"max_features\": [\"sqrt\", \"log2\"],  \n",
    "            }\n",
    "scoreFunction = {\"recall\": \"recall\", \"precision\": \"precision\"}\n",
    "random_search = RandomizedSearchCV(MOD, param_distributions = m_params, random_state = 40) \n",
    "\n",
    "#trains and optimizes the model\n",
    "random_search.fit(X_train, y_train)\n",
    "\n",
    "#recover the best model\n",
    "MOD = random_search.best_estimator_"
   ]
  },
  {
   "cell_type": "code",
   "execution_count": null,
   "metadata": {},
   "outputs": [],
   "source": []
  },
  {
   "cell_type": "code",
   "execution_count": 38,
   "metadata": {},
   "outputs": [],
   "source": []
  },
  {
   "cell_type": "code",
   "execution_count": 41,
   "metadata": {},
   "outputs": [
    {
     "data": {
      "text/plain": [
       "Text(0, 0.5, 'Precision')"
      ]
     },
     "execution_count": 41,
     "metadata": {},
     "output_type": "execute_result"
    },
    {
     "data": {
      "image/png": "[encoded data removed]",
      "text/plain": [
       "<Figure size 432x288 with 1 Axes>"
      ]
     },
     "metadata": {
      "needs_background": "light"
     },
     "output_type": "display_data"
    }
   ],
   "source": [
    "import matplotlib.pyplot as plt\n",
    "#plt.plot([0, 1], [no_skill, no_skill], linestyle='--', label='No Skill')\n",
    "plt.plot(rf_recall, rf_precision, marker='.', label='Logistic')\n",
    "# axis labels\n",
    "plt.xlabel('Recall')\n",
    "plt.ylabel('Precision')"
   ]
  },
  {
   "cell_type": "code",
   "execution_count": null,
   "metadata": {},
   "outputs": [],
   "source": []
  },
  {
   "cell_type": "code",
   "execution_count": null,
   "metadata": {},
   "outputs": [],
   "source": []
  },
  {
   "cell_type": "code",
   "execution_count": null,
   "metadata": {},
   "outputs": [],
   "source": []
  },
  {
   "cell_type": "code",
   "execution_count": null,
   "metadata": {},
   "outputs": [],
   "source": []
  },
  {
   "cell_type": "code",
   "execution_count": null,
   "metadata": {},
   "outputs": [],
   "source": []
  },
  {
   "cell_type": "code",
   "execution_count": null,
   "metadata": {},
   "outputs": [],
   "source": []
  },
  {
   "cell_type": "code",
   "execution_count": null,
   "metadata": {},
   "outputs": [],
   "source": []
  },
  {
   "cell_type": "code",
   "execution_count": 323,
   "metadata": {},
   "outputs": [
    {
     "name": "stdout",
     "output_type": "stream",
     "text": [
      "Using matplotlib backend: Qt5Agg\n"
     ]
    }
   ],
   "source": [
    "%matplotlib\n",
    "subset1 = df1_labeled[df1_labeled['cc_num']==cards[0]]\n",
    "plt.scatter(subset1['amt'], subset1['label'])\n",
    "plt.xlabel('transaction amount')\n",
    "plt.ylabel('amount label')\n",
    "plt.title('Transaction Amount Label for Card #'+str(cards[0]))\n",
    "plt.show()"
   ]
  },
  {
   "cell_type": "code",
   "execution_count": null,
   "metadata": {},
   "outputs": [],
   "source": []
  },
  {
   "cell_type": "code",
   "execution_count": null,
   "metadata": {},
   "outputs": [],
   "source": []
  }
 ],
 "metadata": {
  "kernelspec": {
   "display_name": "Python 3",
   "language": "python",
   "name": "python3"
  },
  "language_info": {
   "codemirror_mode": {
    "name": "ipython",
    "version": 3
   },
   "file_extension": ".py",
   "mimetype": "text/x-python",
   "name": "python",
   "nbconvert_exporter": "python",
   "pygments_lexer": "ipython3",
   "version": "3.7.4"
  }
 },
 "nbformat": 4,
 "nbformat_minor": 4
}
